{
 "cells": [
  {
   "cell_type": "code",
   "execution_count": null,
   "id": "0922a2b9",
   "metadata": {},
   "outputs": [],
   "source": [
    "               Programming Assignment_16"
   ]
  },
  {
   "cell_type": "code",
   "execution_count": 1,
   "id": "32e139a3",
   "metadata": {},
   "outputs": [
    {
     "name": "stdout",
     "output_type": "stream",
     "text": [
      "Enter the Word : incredible\n",
      "incredible -> in.....in.....incredible\n",
      "Enter the Word : in..... in....incredible?\n",
      "in..... in....incredible? -> in.....in.....in..... in.....in.....in....in.....in.....incredible?\n",
      "Enter the Word : enthusiastic\n",
      "enthusiastic -> en.....en.....enthusiastic\n"
     ]
    }
   ],
   "source": [
    "1.Write a function that stutters a word as if someone is struggling to read it.\n",
    "The first two letters are repeated twice with an ellipsis ... and space after each, and then\n",
    "the word is pronounced with a question mark ?\n",
    "Examples: stutter(\"incredible\") ➞ \"in... in... incredible?\"\n",
    "stutter(\"enthusiastic\") ➞ \"en... en... enthusiastic?\"\n",
    "stutter(\"outstanding\") ➞ \"ou... ou... outstanding?\"\n",
    "\n",
    "Hint :- Assume all input is in lower case and at least two characters long.\n",
    "##Answer:-\n",
    "def stutterWord():\n",
    "    in_string = input('Enter the Word : ')\n",
    "    out_string = in_string.replace(in_string[0:2],((in_string[0:2]+'.....')*2)+ in_string[0:2])\n",
    "    print(f'{in_string} -> {out_string}')\n",
    "    \n",
    "for i in range(3):\n",
    "    stutterWord()"
   ]
  },
  {
   "cell_type": "code",
   "execution_count": 2,
   "id": "9ad14108",
   "metadata": {},
   "outputs": [
    {
     "name": "stdout",
     "output_type": "stream",
     "text": [
      "Enter the angle in radians: 1\n",
      "1radian(s)-> 57.295780 degrees\n",
      "Enter the angle in radians: 60\n",
      "60radian(s)-> 3437.746771 degrees\n",
      "Enter the angle in radians: 59\n",
      "59radian(s)-> 3380.450991 degrees\n"
     ]
    }
   ],
   "source": [
    "2..Create a function that takes an angle in radians and returns the corresponding \n",
    "angle in degrees rounded to one decimal place ?\n",
    "Examples: radians_to_degrees(1) ➞ 57.3\n",
    "radians_to_degrees(20) ➞ 1145.9\n",
    "radians_to_degrees(50) ➞ 2864.8\n",
    "##Answer:-\n",
    "import math\n",
    "def radianToDegree():\n",
    "    in_num = int(input('Enter the angle in radians: '))\n",
    "    out_num = (180/math.pi)*in_num\n",
    "    print(f'{in_num}radian(s)->{out_num: 1f} degrees')\n",
    "    \n",
    "for x in range(3):\n",
    "    radianToDegree()"
   ]
  },
  {
   "cell_type": "code",
   "execution_count": 3,
   "id": "5c8f6cff",
   "metadata": {},
   "outputs": [
    {
     "name": "stdout",
     "output_type": "stream",
     "text": [
      "Enter a number: 5\n",
      "5 is Not a Curzon Number\n",
      "Enter a number: 10\n",
      "10is Not a Curzon Number\n",
      "Enter a number: 14\n",
      "14 is Not a Curzon Number\n",
      "Enter a number: 12\n",
      "12is Not a Curzon Number\n"
     ]
    }
   ],
   "source": [
    "Q3.In this challenge, establish if a given integer num is a Curzon number. \n",
    "If 1 plus 2 elevated to num is exactly divisible by 1 plus 2 multiplied by num, \n",
    "then num is a Curzon number. Given a non-negative integer num, implement a function\n",
    "that returns True if num is a Curzon number, or False otherwise.\n",
    "Examples: `is_curzon(5) ➞ True\n",
    "\n",
    "# 2 ** 5 + 1 = 33\n",
    "# 2 * 5 + 1 = 11\n",
    "# 33 is a multiple of 11\n",
    "is_curzon(10) ➞ False\n",
    "\n",
    "# 2 ** 10 + 1 = 1025\n",
    "# 2 * 10 + 1 = 21\n",
    "# 1025 is not a multiple of 21\n",
    "is_curzon(14) ➞ True\n",
    "\n",
    "# 2 ** 14 + 1 = 16385\n",
    "# 2 * 14 + 1 = 29\n",
    "# 16385 is a multiple of 29`\n",
    "Answer:-\n",
    "\n",
    "def checkCurzon():\n",
    "    in_num = int(input(\"Enter a number: \"))\n",
    "    if (pow(2,in_num)+1)%((2*in_num)+1) ==0:\n",
    "        print(f'{in_num} is Not a Curzon Number')\n",
    "    else:\n",
    "        print(f'{in_num}is Not a Curzon Number')\n",
    "for x in range(4):\n",
    "    checkCurzon()"
   ]
  },
  {
   "cell_type": "code",
   "execution_count": 4,
   "id": "bc44fe26",
   "metadata": {},
   "outputs": [
    {
     "name": "stdout",
     "output_type": "stream",
     "text": [
      "Enter the size of length of a Hexagon: 1\n",
      "Area for Hexagon of sidelength1->2.6\n",
      "Enter the size of length of a Hexagon: 2\n",
      "Area for Hexagon of sidelength2->10.4\n",
      "Enter the size of length of a Hexagon: 3\n",
      "Area for Hexagon of sidelength3->23.4\n"
     ]
    }
   ],
   "source": [
    "Q4.Given the side length x find the area of a hexagon ?\n",
    "Examples: area_of_hexagon(1) ➞ 2.6\n",
    "area_of_hexagon(2) ➞ 10.4\n",
    "area_of_hexagon(3) ➞ 23.4\n",
    "Answer:-\n",
    "import math\n",
    "def areaOfHexagon():\n",
    "    in_num = int(input('Enter the size of length of a Hexagon: '))\n",
    "    out_num = ((3*math.sqrt(3))/2)*(pow(in_num,2))\n",
    "    print(f'Area for Hexagon of sidelength{in_num}->{out_num:.1f}')\n",
    "    \n",
    "for x in range(3):\n",
    "    areaOfHexagon()\n"
   ]
  },
  {
   "cell_type": "code",
   "execution_count": 6,
   "id": "a6736dab",
   "metadata": {},
   "outputs": [
    {
     "name": "stdout",
     "output_type": "stream",
     "text": [
      "Enter a Number: 1\n",
      "Binary of 1-> 1\n",
      "Enter a Number: 5\n",
      "Binary of 5-> 101\n",
      "Enter a Number: 10\n",
      "Binary of 10-> 1010\n"
     ]
    }
   ],
   "source": [
    "Q5.Create a function that returns a base-2 (binary) representation of a base-10\n",
    "(decimal) string number. To convert is simple:\n",
    "((2) means base-2 and (10) means base-10)\n",
    "010101001(2) = 1 + 8 + 32 + 128.\n",
    "Going from right to left, the value of the most right bit is 1, now from\n",
    "that every bit to the left will be x2 the value, value of an 8 bit binary\n",
    "numbers are (256, 128, 64, 32, 16, 8, 4, 2, 1).\n",
    "Examples:\n",
    "`binary(1) ➞ \"1\"\n",
    "\n",
    "# 1* 1 = 1\n",
    "binary(5) ➞ \"101\"\n",
    "\n",
    "# 1 1 + 1 4 = 5\n",
    "binary(10) ➞ \"1010\"\n",
    "\n",
    "# 1 2 + 1 8 = 10`\n",
    "##Answer:-\n",
    "def getBinary():\n",
    "    in_num = int(input('Enter a Number: '))\n",
    "    out_num = bin(in_num).replace('0b',' ')\n",
    "    print(f'Binary of {in_num}->{out_num}')\n",
    "    \n",
    "for x in range(3):\n",
    "    getBinary()\n"
   ]
  },
  {
   "cell_type": "code",
   "execution_count": null,
   "id": "e12e4db3",
   "metadata": {},
   "outputs": [],
   "source": []
  },
  {
   "cell_type": "code",
   "execution_count": null,
   "id": "12a953c4",
   "metadata": {},
   "outputs": [],
   "source": []
  }
 ],
 "metadata": {
  "kernelspec": {
   "display_name": "Python 3 (ipykernel)",
   "language": "python",
   "name": "python3"
  },
  "language_info": {
   "codemirror_mode": {
    "name": "ipython",
    "version": 3
   },
   "file_extension": ".py",
   "mimetype": "text/x-python",
   "name": "python",
   "nbconvert_exporter": "python",
   "pygments_lexer": "ipython3",
   "version": "3.9.12"
  }
 },
 "nbformat": 4,
 "nbformat_minor": 5
}
